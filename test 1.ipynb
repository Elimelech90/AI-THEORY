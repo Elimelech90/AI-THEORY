{
 "cells": [
  {
   "cell_type": "code",
   "execution_count": null,
   "id": "57fa80f3",
   "metadata": {},
   "outputs": [
    {
     "name": "stdout",
     "output_type": "stream",
     "text": [
      "\n",
      "🧠 Result: AI-generated\n"
     ]
    }
   ],
   "source": [
    "import pickle\n",
    "import re\n",
    "\n",
    "# Load saved model and vectorizer\n",
    "model = pickle.load(open(\"svm_ai_text_detector.pkl\", \"rb\"))\n",
    "vectorizer = pickle.load(open(\"svm_tfidf_vectorizer.pkl\", \"rb\"))\n",
    "\n",
    "# Clean text function\n",
    "def clean_text(text):\n",
    "    text = str(text).lower()\n",
    "    text = re.sub(r\"http\\S+|www\\S+|https\\S+\", \"\", text)\n",
    "    text = re.sub(r\"[^a-z0-9\\s]+\", \"\", text)\n",
    "    text = re.sub(r\"\\s+\", \" \", text).strip()\n",
    "    return text\n",
    "\n",
    "# Custom test input\n",
    "text = input(\"Enter a paragraph to test: \")\n",
    "clean = clean_text(text)\n",
    "vec = vectorizer.transform([clean])\n",
    "pred = model.predict(vec)[0]\n",
    "print(\"\\n Result:\", \"AI-generated\" if pred == 1 else \"Human-written\")\n"
   ]
  }
 ],
 "metadata": {
  "kernelspec": {
   "display_name": "base",
   "language": "python",
   "name": "python3"
  },
  "language_info": {
   "codemirror_mode": {
    "name": "ipython",
    "version": 3
   },
   "file_extension": ".py",
   "mimetype": "text/x-python",
   "name": "python",
   "nbconvert_exporter": "python",
   "pygments_lexer": "ipython3",
   "version": "3.12.4"
  }
 },
 "nbformat": 4,
 "nbformat_minor": 5
}
