{
 "cells": [
  {
   "cell_type": "code",
   "execution_count": null,
   "id": "3cce250b",
   "metadata": {},
   "outputs": [
    {
     "name": "stdout",
     "output_type": "stream",
     "text": [
      " Model, Scaler & Dataset Loaded.\n",
      " Prediction: No Heart Disease\n"
     ]
    }
   ],
   "source": [
    "import pickle\n",
    "import pandas as pd\n",
    "\n",
    "# Load the dataset again to use for encoding\n",
    "df = pd.read_csv(r'c:\\Users\\Lenovo\\Desktop\\heart disease\\heart.csv')\n",
    "\n",
    "# Load trained model and scaler\n",
    "with open(r'c:\\Users\\Lenovo\\Desktop\\heart disease\\heart_disease_svm_model.pkl', 'rb') as file:\n",
    "    loaded_model, loaded_scaler = pickle.load(file)\n",
    "\n",
    "print(\" Model, Scaler & Dataset Loaded.\")\n",
    "\n",
    "# Example new patient data\n",
    "new_patient = {\n",
    "    'Age': [58],\n",
    "    'Sex': ['F'],\n",
    "    'ChestPainType': ['NAP'],\n",
    "    'RestingBP': [120],\n",
    "    'Cholesterol': [240],\n",
    "    'FastingBS': [1],\n",
    "    'RestingECG': ['ST'],\n",
    "    'MaxHR': [160],\n",
    "    'ExerciseAngina': ['N'],\n",
    "    'Oldpeak': [2.3],\n",
    "    'ST_Slope': ['Up']\n",
    "}\n",
    "new_patient_df = pd.DataFrame(new_patient)\n",
    "\n",
    "# Combine with dataset, encode, and extract the new patient row\n",
    "combined_df = pd.concat([df.drop('HeartDisease', axis=1), new_patient_df], axis=0)\n",
    "combined_encoded = pd.get_dummies(combined_df, drop_first=True)\n",
    "new_patient_encoded = combined_encoded.tail(1)\n",
    "\n",
    "# Scale and predict\n",
    "new_patient_scaled = loaded_scaler.transform(new_patient_encoded)\n",
    "prediction = loaded_model.predict(new_patient_scaled)\n",
    "\n",
    "# Display result\n",
    "if prediction[0] == 1:\n",
    "    print(\"🔔 Prediction: Heart Disease Detected\")\n",
    "else:\n",
    "    print(\" Prediction: No Heart Disease\")\n"
   ]
  }
 ],
 "metadata": {
  "kernelspec": {
   "display_name": "Python 3",
   "language": "python",
   "name": "python3"
  },
  "language_info": {
   "codemirror_mode": {
    "name": "ipython",
    "version": 3
   },
   "file_extension": ".py",
   "mimetype": "text/x-python",
   "name": "python",
   "nbconvert_exporter": "python",
   "pygments_lexer": "ipython3",
   "version": "3.12.4"
  }
 },
 "nbformat": 4,
 "nbformat_minor": 5
}
